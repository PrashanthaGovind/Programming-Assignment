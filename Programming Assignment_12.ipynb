{
 "cells": [
  {
   "cell_type": "markdown",
   "id": "b7231b20",
   "metadata": {},
   "source": [
    "# Python Basic Programming Assignment 12\n",
    "-------------"
   ]
  },
  {
   "cell_type": "markdown",
   "id": "d2ec324d",
   "metadata": {},
   "source": [
    "### 1. Write a Python program to Extract Unique values dictionary values?"
   ]
  },
  {
   "cell_type": "code",
   "execution_count": 3,
   "id": "eca80d8b",
   "metadata": {},
   "outputs": [
    {
     "name": "stdout",
     "output_type": "stream",
     "text": [
      "The original dictionary is :  {'A': [1, 3, 5, 4], 'B': [4, 6, 8, 10], 'C': [6, 12, 4, 8], 'D': [5, 7, 2]}\n",
      "The unique values in the dictionaries are: [1, 2, 3, 4, 5, 6, 7, 8, 10, 12]\n"
     ]
    }
   ],
   "source": [
    "my_dict1 = {'A': [1, 3, 5, 4],\n",
    "            'B': [4, 6, 8, 10],\n",
    "            'C': [6, 12, 4, 8],\n",
    "            'D': [5, 7, 2]}\n",
    "\n",
    "\n",
    "print(\"The original dictionary is : \", my_dict1)\n",
    "\n",
    "\n",
    "res1 = list(({ele for val in my_dict1.values() for ele in val}))\n",
    "print(\"The unique values in the dictionaries are:\", res1)"
   ]
  },
  {
   "cell_type": "markdown",
   "id": "203bcbc3",
   "metadata": {},
   "source": [
    "### 2. Write a Python program to find the sum of all items in a dictionary?"
   ]
  },
  {
   "cell_type": "code",
   "execution_count": 29,
   "id": "b40343f8",
   "metadata": {},
   "outputs": [
    {
     "name": "stdout",
     "output_type": "stream",
     "text": [
      "{'A': [1, 3, 5, 4], 'B': [4, 6, 8, 10], 'C': [6, 12, 4, 8], 'D': [5, 7, 2], 'E': 99}\n",
      "[1, 3, 5, 4, 4, 6, 8, 10, 6, 12, 4, 8, 5, 7, 2, 99]\n",
      "The sum of the all items of dictionary is: 184\n"
     ]
    }
   ],
   "source": [
    "my_dict1 = {'A': [1, 3, 5, 4],\n",
    "            'B': [4, 6, 8, 10],\n",
    "            'C': [6, 12, 4, 8],\n",
    "            'D': [5, 7, 2],\n",
    "            'E': 99}\n",
    "\n",
    "print(my_dict1)\n",
    "\n",
    "sum_dict = []\n",
    "for i in my_dict1.values():\n",
    "    if type(i) == list:\n",
    "        for j in i:\n",
    "            sum_dict.append(j)\n",
    "    else:\n",
    "        sum_dict.append(i)\n",
    "\n",
    "print(sum_dict)\n",
    "print(\"The sum of the all items of dictionary is:\",sum(sum_dict))\n"
   ]
  },
  {
   "cell_type": "markdown",
   "id": "edfbc682",
   "metadata": {},
   "source": [
    "### 3. Write a Python program to Merging two Dictionaries?"
   ]
  },
  {
   "cell_type": "code",
   "execution_count": 31,
   "id": "4dc4cdb7",
   "metadata": {},
   "outputs": [
    {
     "name": "stdout",
     "output_type": "stream",
     "text": [
      "{'apple': 100, 'beans': 200, 'Carrot': 300, 'Tomato': 200}\n"
     ]
    }
   ],
   "source": [
    "fruit = {'apple': 100, 'beans': 200}\n",
    "veggies = {'Carrot': 300, 'Tomato': 200}\n",
    "fruit_veggies = fruit.copy()\n",
    "fruit_veggies.update(veggies)\n",
    "print(fruit_veggies)"
   ]
  },
  {
   "cell_type": "markdown",
   "id": "62eaf687",
   "metadata": {},
   "source": [
    "### 4. Write a Python program to convert key-values list to flat dictionary?"
   ]
  },
  {
   "cell_type": "code",
   "execution_count": 7,
   "id": "94d76e08",
   "metadata": {},
   "outputs": [
    {
     "name": "stdout",
     "output_type": "stream",
     "text": [
      "dictionary languages :  {'language': ['python', 'java', 'c/c++', 'javascript'], 'year': [1991, 1995, 1980, 1995]} \n",
      "\n",
      "Flattened dictionary  language :  {'python': 1991, 'java': 1995, 'c/c++': 1980, 'javascript': 1995}\n"
     ]
    }
   ],
   "source": [
    "lang_year = {'language' : ['python', 'java', 'c/c++', 'javascript'], 'year' : [1991, 1995, 1980, 1995]}\n",
    "\n",
    "print(\"dictionary languages : \", languages, \"\\n\")\n",
    "\n",
    "lang_year = dict(zip(languages['language'], languages['year']))\n",
    "\n",
    "print(\"Flattened dictionary  language : \", lang_year)"
   ]
  },
  {
   "cell_type": "markdown",
   "id": "fcc5015f",
   "metadata": {},
   "source": [
    "### 5. Write a Python program to insertion at the beginning in OrderedDict?"
   ]
  },
  {
   "cell_type": "code",
   "execution_count": 11,
   "id": "efb7f257",
   "metadata": {},
   "outputs": [
    {
     "name": "stdout",
     "output_type": "stream",
     "text": [
      "OrderedDict([('Sachin', '10'), ('Dhoni', '7')])\n",
      "Resultant Dictionary :\n",
      "OrderedDict([('Virat', '18'), ('Sachin', '10'), ('Dhoni', '7')])\n"
     ]
    }
   ],
   "source": [
    "from collections import OrderedDict\n",
    "dic1 = OrderedDict([('Sachin', '10'), ('Dhoni', '7')])\n",
    "insrt = OrderedDict([('Virat', '18')])\n",
    "  \n",
    "final = OrderedDict(list(insrt.items()) + list(dic1.items()))\n",
    "  \n",
    "print(dic1)\n",
    "print (\"Resultant Dictionary :\")\n",
    "print(final)"
   ]
  },
  {
   "cell_type": "markdown",
   "id": "5978c9ab",
   "metadata": {},
   "source": [
    "### 6. Write a Python program to check order of character in string using OrderedDict()?"
   ]
  },
  {
   "cell_type": "code",
   "execution_count": 45,
   "id": "51c59499",
   "metadata": {},
   "outputs": [
    {
     "name": "stdout",
     "output_type": "stream",
     "text": [
      "The string is \n",
      "Hello world\n",
      "The input pattern is \n",
      "Helo wrd\n",
      "The order of pattern is correct\n"
     ]
    }
   ],
   "source": [
    "from collections import OrderedDict\n",
    "def check_order(my_input, my_pattern):\n",
    "   my_dict = OrderedDict.fromkeys(my_input)\n",
    "   pattern_length = 0\n",
    "   for key,value in my_dict.items():\n",
    "      if (key == my_pattern[pattern_length]):\n",
    "         pattern_length = pattern_length + 1\n",
    "\n",
    "      if (pattern_length == (len(my_pattern))):\n",
    "         return 'The order of pattern is correct'\n",
    "\n",
    "   return 'The order of pattern is incorrect'\n",
    "\n",
    "my_input = 'Hello world'\n",
    "input_pattern = 'Helo wrd'\n",
    "print(\"The string is \")\n",
    "print(my_input)\n",
    "print(\"The input pattern is \")\n",
    "print(input_pattern)\n",
    "print(check_order(my_input,input_pattern))"
   ]
  },
  {
   "cell_type": "markdown",
   "id": "f330da77",
   "metadata": {},
   "source": [
    "### 7. Write a Python program to sort Python Dictionaries by Key or Value?"
   ]
  },
  {
   "cell_type": "code",
   "execution_count": 54,
   "id": "c5112c6b",
   "metadata": {},
   "outputs": [
    {
     "name": "stdout",
     "output_type": "stream",
     "text": [
      "{3: 'Dileep', 2: 'Chandru', 4: 'Appu', 1: 'Balu'}\n"
     ]
    },
    {
     "data": {
      "text/plain": [
       "{4: 'Appu', 1: 'Balu', 2: 'Chandru', 3: 'Dileep'}"
      ]
     },
     "execution_count": 54,
     "metadata": {},
     "output_type": "execute_result"
    }
   ],
   "source": [
    "people = {3: \"Dileep\", 2: \"Chandru\", 4: \"Appu\", 1: \"Balu\"}\n",
    "\n",
    "print(people)\n",
    "\n",
    "dict(sorted(people.items(), key=lambda item: item[1]))\n"
   ]
  },
  {
   "cell_type": "code",
   "execution_count": null,
   "id": "7dac8a2b",
   "metadata": {},
   "outputs": [],
   "source": []
  }
 ],
 "metadata": {
  "kernelspec": {
   "display_name": "Python 3 (ipykernel)",
   "language": "python",
   "name": "python3"
  },
  "language_info": {
   "codemirror_mode": {
    "name": "ipython",
    "version": 3
   },
   "file_extension": ".py",
   "mimetype": "text/x-python",
   "name": "python",
   "nbconvert_exporter": "python",
   "pygments_lexer": "ipython3",
   "version": "3.10.5"
  }
 },
 "nbformat": 4,
 "nbformat_minor": 5
}
