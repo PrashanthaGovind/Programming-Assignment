{
 "cells": [
  {
   "cell_type": "markdown",
   "id": "3dcb940f",
   "metadata": {},
   "source": [
    "## Python Basic Programming Assignment 10"
   ]
  },
  {
   "cell_type": "markdown",
   "id": "6720790a",
   "metadata": {},
   "source": [
    "### 1. Write a Python program to find sum of elements in list?"
   ]
  },
  {
   "cell_type": "code",
   "execution_count": 2,
   "id": "e71aade9",
   "metadata": {},
   "outputs": [
    {
     "name": "stdout",
     "output_type": "stream",
     "text": [
      "690\n"
     ]
    }
   ],
   "source": [
    "num = [2,4,6,8,10,15,20,25,30,35,40,45,50,60,70,80,90,100]\n",
    "\n",
    "sum_list = 0 \n",
    "for i in num:\n",
    "    sum_list += i\n",
    "\n",
    "print(sum_list)"
   ]
  },
  {
   "cell_type": "markdown",
   "id": "fe1137c3",
   "metadata": {},
   "source": [
    "### 2. Write a Python program to  Multiply all numbers in the list?"
   ]
  },
  {
   "cell_type": "code",
   "execution_count": 6,
   "id": "beabf76d",
   "metadata": {},
   "outputs": [
    {
     "name": "stdout",
     "output_type": "stream",
     "text": [
      "3840\n",
      "2\n"
     ]
    }
   ],
   "source": [
    "num = [2,4,6,8,10]\n",
    "\n",
    "mul_list = 1 \n",
    "for i in num:\n",
    "    mul_list *= i\n",
    "\n",
    "print(mul_list)\n"
   ]
  },
  {
   "cell_type": "markdown",
   "id": "078681db",
   "metadata": {},
   "source": [
    "### 3. Write a Python program to find smallest number in a list?"
   ]
  },
  {
   "cell_type": "code",
   "execution_count": 9,
   "id": "406802f4",
   "metadata": {},
   "outputs": [
    {
     "name": "stdout",
     "output_type": "stream",
     "text": [
      "Smallest element is:  4\n",
      "Smallest element is:  4\n"
     ]
    }
   ],
   "source": [
    "num = [10, 20, 4, 45, 99]\n",
    "\n",
    "num.sort()\n",
    "print(\"Smallest element is: \", num[0])\n",
    "print(\"Smallest element is: \", min(num))\n"
   ]
  },
  {
   "cell_type": "markdown",
   "id": "12b04397",
   "metadata": {},
   "source": [
    "### 4. Write a Python program to find largest number in a list?"
   ]
  },
  {
   "cell_type": "code",
   "execution_count": 10,
   "id": "dfa32fec",
   "metadata": {},
   "outputs": [
    {
     "name": "stdout",
     "output_type": "stream",
     "text": [
      "largest element is:  99\n",
      "largest element is:  99\n"
     ]
    }
   ],
   "source": [
    "num = [10, 20, 4, 45, 99]\n",
    "\n",
    "num.sort(reverse= True)\n",
    "print(\"largest element is: \", num[0])\n",
    "print(\"largest element is: \", max(num))"
   ]
  },
  {
   "cell_type": "markdown",
   "id": "86442b51",
   "metadata": {},
   "source": [
    "### 5. Write a Python program to find second largest number in a list?"
   ]
  },
  {
   "cell_type": "code",
   "execution_count": 15,
   "id": "5bab0328",
   "metadata": {},
   "outputs": [
    {
     "name": "stdout",
     "output_type": "stream",
     "text": [
      "2nd largest element in the 1st list is:  45\n",
      "2nd largest element in the 2nd list is:  65\n"
     ]
    }
   ],
   "source": [
    "num = [10, 20, 4, 45, 99]\n",
    "\n",
    "num.sort()\n",
    "print(\"2nd largest element in the 1st list is: \", num[-2])\n",
    "\n",
    "num1 = [8,10,154,5,65,54,40,45,]\n",
    "\n",
    "num1.sort(reverse= True)\n",
    "print(\"2nd largest element in the 2nd list is: \", num1[1])"
   ]
  },
  {
   "cell_type": "markdown",
   "id": "10964d7d",
   "metadata": {},
   "source": [
    "### 6. Write a Python program to find N largest elements from a list?"
   ]
  },
  {
   "cell_type": "code",
   "execution_count": 1,
   "id": "33bdd854",
   "metadata": {},
   "outputs": [
    {
     "name": "stdout",
     "output_type": "stream",
     "text": [
      "Enter the number to find largest number: 10\n",
      " N_th largest element in the list is:  30\n"
     ]
    }
   ],
   "source": [
    "num = [2,4,6,8,10,15,20,25,30,35,40,45,50,60,70,80,90,100]\n",
    "\n",
    "n_largest_no = int(input(\"Enter the number to find largest number: \"))\n",
    "\n",
    "if n_largest_no > len(num):\n",
    "    print(\"Out of index, Please enter lesser number\")\n",
    "\n",
    "else:\n",
    "    num.sort(reverse= True)\n",
    "    print(\" N_th largest element in the list is: \", num[n_largest_no-1])"
   ]
  },
  {
   "cell_type": "markdown",
   "id": "2f1a1e98",
   "metadata": {},
   "source": [
    "### 7. Write a Python program to print even numbers in a list?"
   ]
  },
  {
   "cell_type": "code",
   "execution_count": 4,
   "id": "dd025af1",
   "metadata": {},
   "outputs": [
    {
     "name": "stdout",
     "output_type": "stream",
     "text": [
      "The Even numbers in the list are: \n",
      "\r\n",
      "2 4 48 68 74 14 1052 "
     ]
    }
   ],
   "source": [
    "num = [2,4,31,23,48,75,17,59,68,74,14,23,35,37,39,41,4999,1052,5723]\n",
    "\n",
    "print(\"The Even numbers in the list are: \")\n",
    "print(\"\\r\")\n",
    "\n",
    "for i in num:\n",
    "    if i % 2 == 0:\n",
    "        print(i, end=\" \")"
   ]
  },
  {
   "cell_type": "markdown",
   "id": "989bb324",
   "metadata": {},
   "source": [
    "### 8. Write a Python program to print odd numbers in a List?"
   ]
  },
  {
   "cell_type": "code",
   "execution_count": 5,
   "id": "1595c972",
   "metadata": {},
   "outputs": [
    {
     "name": "stdout",
     "output_type": "stream",
     "text": [
      "The Even numbers in the list are: \n",
      "\r\n",
      "31 23 75 17 59 23 35 37 39 41 4999 5723 "
     ]
    }
   ],
   "source": [
    "num = [2,4,31,23,48,75,17,59,68,74,14,23,35,37,39,41,4999,1052,5723]\n",
    "\n",
    "print(\"The Even numbers in the list are: \")\n",
    "print(\"\\r\")\n",
    "\n",
    "for i in num:\n",
    "    if i % 2 != 0:\n",
    "        print(i, end=\" \")"
   ]
  },
  {
   "cell_type": "markdown",
   "id": "185b7b13",
   "metadata": {},
   "source": [
    "### 9. Write a Python program to Remove empty List from List?"
   ]
  },
  {
   "cell_type": "code",
   "execution_count": 7,
   "id": "88e1302c",
   "metadata": {},
   "outputs": [
    {
     "name": "stdout",
     "output_type": "stream",
     "text": [
      "[[], 45, 78, 24, 'Prashnatha G', 'FSDA', 14.5, [], [], ['Python', 'SQL', 'PowerBI']]\n",
      "\r\n",
      "[45, 78, 24, 'Prashnatha G', 'FSDA', 14.5, ['Python', 'SQL', 'PowerBI']]\n"
     ]
    }
   ],
   "source": [
    "initial_list = [[], 45,78,24,\"Prashnatha G\", \"FSDA\", 14.5,[],[],[\"Python\", \"SQL\", \"PowerBI\"]]\n",
    "\n",
    "print(initial_list)\n",
    "\n",
    "print(\"\\r\")\n",
    "\n",
    "final_list = [lst for lst in initial_list if lst != []]\n",
    "\n",
    "print(final_list)"
   ]
  },
  {
   "cell_type": "markdown",
   "id": "278cfacc",
   "metadata": {},
   "source": [
    "### 10. Write a Python program to Cloning or Copying a list?"
   ]
  },
  {
   "cell_type": "code",
   "execution_count": 10,
   "id": "6fb941b8",
   "metadata": {},
   "outputs": [
    {
     "name": "stdout",
     "output_type": "stream",
     "text": [
      "[[], 45, 78, 24, 'Prashnatha G', 'FSDA', 14.5, ['Python', 'SQL', 'PowerBI']] \n",
      "\n",
      "[[], 45, 78, 24, 'Prashnatha G', 'FSDA', 14.5, ['Python', 'SQL', 'PowerBI']]\n"
     ]
    }
   ],
   "source": [
    "original_list = [[], 45,78,24,\"Prashnatha G\", \"FSDA\", 14.5,[\"Python\", \"SQL\", \"PowerBI\"]]\n",
    "\n",
    "print(original_list, \"\\n\")\n",
    "\n",
    "copied_list = original_list.copy()\n",
    "\n",
    "print(copied_list)"
   ]
  },
  {
   "cell_type": "markdown",
   "id": "b359bedf",
   "metadata": {},
   "source": [
    "### 11. Write a Python program to Count occurrences of an element in a list?"
   ]
  },
  {
   "cell_type": "code",
   "execution_count": 22,
   "id": "d8954ace",
   "metadata": {},
   "outputs": [
    {
     "name": "stdout",
     "output_type": "stream",
     "text": [
      "2 repeated 4 times\n"
     ]
    }
   ],
   "source": [
    "lst = [2,5,89,7,2,45,2,45,7,89,32,15,32,32,2,1,78,36,57,7,89]\n",
    "\n",
    "ele = 2\n",
    "\n",
    "count_ele = lst.count(ele)\n",
    "print( ele, \"repeated\", count_ele, \"times\")\n",
    "\n",
    "\n",
    "\n"
   ]
  },
  {
   "cell_type": "code",
   "execution_count": null,
   "id": "867f94fe",
   "metadata": {},
   "outputs": [],
   "source": []
  }
 ],
 "metadata": {
  "kernelspec": {
   "display_name": "Python 3 (ipykernel)",
   "language": "python",
   "name": "python3"
  },
  "language_info": {
   "codemirror_mode": {
    "name": "ipython",
    "version": 3
   },
   "file_extension": ".py",
   "mimetype": "text/x-python",
   "name": "python",
   "nbconvert_exporter": "python",
   "pygments_lexer": "ipython3",
   "version": "3.10.5"
  }
 },
 "nbformat": 4,
 "nbformat_minor": 5
}
