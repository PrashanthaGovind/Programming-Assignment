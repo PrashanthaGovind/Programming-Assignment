{
 "cells": [
  {
   "cell_type": "markdown",
   "id": "53c7e882",
   "metadata": {},
   "source": [
    "# Python Basic Programming Assignment 11\n",
    "--------------------"
   ]
  },
  {
   "cell_type": "markdown",
   "id": "051da140",
   "metadata": {},
   "source": [
    "### 1. Write a Python program to find words which are greater than given length k?"
   ]
  },
  {
   "cell_type": "code",
   "execution_count": 5,
   "id": "106e529e",
   "metadata": {},
   "outputs": [
    {
     "name": "stdout",
     "output_type": "stream",
     "text": [
      "Enter the value of K: 5\n",
      "Python\n",
      "program\n",
      "greater\n",
      "length\n"
     ]
    }
   ],
   "source": [
    "words = \"Write a Python program to find words which are greater than given length k\"\n",
    "\n",
    "value_k = int(input(\"Enter the value of K: \"))\n",
    "\n",
    "word = words.split(\" \")\n",
    "\n",
    "for i in word:\n",
    "    if len(i) > value_k:\n",
    "        print(i)"
   ]
  },
  {
   "cell_type": "markdown",
   "id": "26719cbd",
   "metadata": {},
   "source": [
    "### 2. Write a Python program for removing i-th character from a string?"
   ]
  },
  {
   "cell_type": "code",
   "execution_count": null,
   "id": "fb96981a",
   "metadata": {},
   "outputs": [],
   "source": [
    "myStr =  input('Enter the string : ')\n",
    "i = int(input('Enter the index of character to be removed : '))\n",
    "\n",
    "resStr = \"\"\n",
    "\n",
    "for index in range(len(myStr)):\n",
    "    if index != i:\n",
    "        resStr = resStr + myStr[index]\n",
    "\n",
    "# Printing all strings... \n",
    "print (\"Entered string : \" + myStr)\n",
    "print (\"String formed by removing i'th character : \" + resStr"
   ]
  },
  {
   "cell_type": "code",
   "execution_count": 9,
   "id": "f7549884",
   "metadata": {},
   "outputs": [
    {
     "name": "stdout",
     "output_type": "stream",
     "text": [
      "Enter the string: sdsf\n",
      "Enter the index of character to be removed: 5\n",
      "sdsf\n"
     ]
    }
   ],
   "source": [
    "row_string = input(\"Enter the string: \")\n",
    "\n",
    "i_th_character = int(input(\"Enter the index of character to be removed: \"))\n",
    "\n",
    "new_string = \"\"\n",
    "\n",
    "for i in range(len(row_string)):\n",
    "    if i == i_th_character:\n",
    "        continue\n",
    "    else:\n",
    "        new_string = new_string + row_string[i]\n",
    "        \n",
    "print(new_string)"
   ]
  },
  {
   "cell_type": "markdown",
   "id": "51ae6b0f",
   "metadata": {},
   "source": [
    "### 3. Write a Python program to split and join a string?"
   ]
  },
  {
   "cell_type": "code",
   "execution_count": 11,
   "id": "c97e66fa",
   "metadata": {},
   "outputs": [
    {
     "name": "stdout",
     "output_type": "stream",
     "text": [
      "Before split --> The tiger is the largest living cat species and a member of the genus Panthera \n",
      "\n",
      "After split --> ['The', 'tiger', 'is', 'the', 'largest', 'living', 'cat', 'species', 'and', 'a', 'member', 'of', 'the', 'genus', 'Panthera'] \n",
      "\n",
      "After join --> The tiger is the largest living cat species and a member of the genus Panthera\n"
     ]
    }
   ],
   "source": [
    "my_str = \"The tiger is the largest living cat species and a member of the genus Panthera\"\n",
    "\n",
    "print(\"Before split -->\", my_str, \"\\n\")\n",
    "\n",
    "splt_str = my_str.split(\" \")\n",
    "\n",
    "print(\"After split -->\", splt_str, \"\\n\")\n",
    "\n",
    "join_str = \" \".join(splt_str)\n",
    "\n",
    "print(\"After join -->\", join_str)"
   ]
  },
  {
   "cell_type": "markdown",
   "id": "59079fe1",
   "metadata": {},
   "source": [
    "### 4. Write a Python to check if a given string is binary string or not?"
   ]
  },
  {
   "cell_type": "code",
   "execution_count": 13,
   "id": "26b7ccf1",
   "metadata": {},
   "outputs": [
    {
     "name": "stdout",
     "output_type": "stream",
     "text": [
      "StringA is a binary string.\n",
      "StringB is not a binary string.\n"
     ]
    }
   ],
   "source": [
    "stringA = '0110101010111'\n",
    "b = {'0','1'}\n",
    "t = set(stringA)\n",
    "\n",
    "if b == t or t == {'0'} or t == {'1'}:\n",
    "    print(\"StringA is a binary string.\")\n",
    "else:\n",
    "    print(\"StringA is not a binary string.\")\n",
    "\n",
    "stringB = '0120101010111'\n",
    "u = set(stringB)\n",
    "\n",
    "if b == u or u == {'0'} or u == {'1'}:\n",
    "    print(\"StringB is a binary string.\")\n",
    "else:\n",
    "    print(\"StringB is not a binary string.\")"
   ]
  },
  {
   "cell_type": "markdown",
   "id": "4d6cf11a",
   "metadata": {},
   "source": [
    "### 5. Write a Python program to find uncommon words from two Strings?"
   ]
  },
  {
   "cell_type": "code",
   "execution_count": 15,
   "id": "4658c6f4",
   "metadata": {},
   "outputs": [
    {
     "name": "stdout",
     "output_type": "stream",
     "text": [
      " Right Batsmen Left Bowler\n"
     ]
    }
   ],
   "source": [
    "string1 = \"Sachin Ramesh Tendulkar a Right Hand Batsmen\"\n",
    "string2 = \"Sachin Ramesh Tendulkar a Left Hand Bowler\"\n",
    "\n",
    "lst_string1 = string1.split(\" \")\n",
    "lst_string2 = string2.split(\" \")\n",
    "\n",
    "uncommon_words = \"\"\n",
    "\n",
    "for i in lst_string1:\n",
    "    if i not in lst_string2:\n",
    "        uncommon_words = uncommon_words + \" \" + i\n",
    "for j in lst_string2:\n",
    "    if j not in lst_string1:\n",
    "        uncommon_words = uncommon_words + \" \" + j\n",
    "        \n",
    "print(uncommon_words)"
   ]
  },
  {
   "cell_type": "markdown",
   "id": "e2b24677",
   "metadata": {},
   "source": [
    "### 6. Write a Python to find all duplicate characters in string?"
   ]
  },
  {
   "cell_type": "code",
   "execution_count": 11,
   "id": "03a273cc",
   "metadata": {},
   "outputs": [
    {
     "name": "stdout",
     "output_type": "stream",
     "text": [
      "a h\n"
     ]
    }
   ],
   "source": [
    "string = \"Prashantha\"\n",
    "duplicates = []\n",
    "for char in string:\n",
    "    if string.count(char) > 1:\n",
    "        if char not in duplicates:\n",
    "            duplicates.append(char)\n",
    "print(*duplicates)"
   ]
  },
  {
   "cell_type": "markdown",
   "id": "1a6af7e4",
   "metadata": {},
   "source": [
    "### 7. Write a Python Program to check if a string contains any special character?"
   ]
  },
  {
   "cell_type": "code",
   "execution_count": 16,
   "id": "246bfd11",
   "metadata": {},
   "outputs": [
    {
     "name": "stdout",
     "output_type": "stream",
     "text": [
      "This string contains a special character\n"
     ]
    }
   ],
   "source": [
    "my_string = \"Pr@shantha Nayak\"\n",
    "\n",
    "import re\n",
    "\n",
    "regex = re.compile('[-;@_!#$%^&*()<>?/\\|}{~:]')\n",
    "\n",
    "if(regex.search(my_string) == None):\n",
    "    print(\"This string does not contain any special character\")\n",
    "else:\n",
    "    print(\"This string contains a special character\")"
   ]
  },
  {
   "cell_type": "code",
   "execution_count": null,
   "id": "e1d7f299",
   "metadata": {},
   "outputs": [],
   "source": []
  }
 ],
 "metadata": {
  "kernelspec": {
   "display_name": "Python 3 (ipykernel)",
   "language": "python",
   "name": "python3"
  },
  "language_info": {
   "codemirror_mode": {
    "name": "ipython",
    "version": 3
   },
   "file_extension": ".py",
   "mimetype": "text/x-python",
   "name": "python",
   "nbconvert_exporter": "python",
   "pygments_lexer": "ipython3",
   "version": "3.10.5"
  }
 },
 "nbformat": 4,
 "nbformat_minor": 5
}
