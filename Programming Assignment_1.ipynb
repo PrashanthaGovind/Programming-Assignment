{
 "cells": [
  {
   "cell_type": "markdown",
   "id": "637b47a5",
   "metadata": {},
   "source": [
    "## Programming Assignment_1\n",
    "-------------"
   ]
  },
  {
   "cell_type": "markdown",
   "id": "0c647dbe",
   "metadata": {},
   "source": [
    "### 1. Write a Python program to print \"Hello Python\"?"
   ]
  },
  {
   "cell_type": "code",
   "execution_count": 1,
   "id": "26d7a669",
   "metadata": {},
   "outputs": [
    {
     "name": "stdout",
     "output_type": "stream",
     "text": [
      "Hello Python\n"
     ]
    }
   ],
   "source": [
    "msg = \"Hello Python\"\n",
    "print(msg)"
   ]
  },
  {
   "cell_type": "markdown",
   "id": "fc18a6cd",
   "metadata": {},
   "source": [
    "### 2. Write a Python program to do arithmetical operations addition and division.?\n"
   ]
  },
  {
   "cell_type": "code",
   "execution_count": 4,
   "id": "6c4a30a6",
   "metadata": {},
   "outputs": [
    {
     "name": "stdout",
     "output_type": "stream",
     "text": [
      "The addition of num1 and num2 is 55\n",
      "The division of num2 and num1 is 4.5\n"
     ]
    }
   ],
   "source": [
    "num1 = 10\n",
    "num2 = 45\n",
    "addition = num1 + num2\n",
    "print(\"The addition of num1 and num2 is\", addition)\n",
    "division = num2 / num1\n",
    "print(\"The division of num2 and num1 is\", division)"
   ]
  },
  {
   "cell_type": "markdown",
   "id": "af6e2429",
   "metadata": {},
   "source": [
    "### 3. Write a Python program to find the area of a triangle?\n"
   ]
  },
  {
   "cell_type": "code",
   "execution_count": 5,
   "id": "eb5665a8",
   "metadata": {},
   "outputs": [
    {
     "name": "stdout",
     "output_type": "stream",
     "text": [
      "The area of triangle is 54.0\n"
     ]
    }
   ],
   "source": [
    "height_inch = 18\n",
    "base_inch = 6\n",
    "area_of_triangle = (1/2) * base_inch * height_inch\n",
    "print(\"The area of triangle is\", area_of_triangle)"
   ]
  },
  {
   "cell_type": "markdown",
   "id": "b8140061",
   "metadata": {},
   "source": [
    "### 4. Write a Python program to swap two variables?\n"
   ]
  },
  {
   "cell_type": "code",
   "execution_count": 12,
   "id": "36793cd2",
   "metadata": {},
   "outputs": [
    {
     "name": "stdout",
     "output_type": "stream",
     "text": [
      "p for python\n",
      "j for java\n",
      "After swaping two variables\n",
      "p for java\n",
      "j for python\n"
     ]
    }
   ],
   "source": [
    "p = \"python\"\n",
    "j = \"java\"\n",
    "print(\"p for\", p)\n",
    "print(\"j for\", j)\n",
    "counter_variable = p\n",
    "p = j\n",
    "j = counter_variable\n",
    "print(\"After swaping two variables\")\n",
    "print(\"p for\", p)\n",
    "print(\"j for\", j)\n"
   ]
  },
  {
   "cell_type": "markdown",
   "id": "3f8054c1",
   "metadata": {},
   "source": [
    "### 5. Write a Python program to generate a random number?\n"
   ]
  },
  {
   "cell_type": "code",
   "execution_count": 21,
   "id": "46620f0a",
   "metadata": {},
   "outputs": [
    {
     "name": "stdout",
     "output_type": "stream",
     "text": [
      "0.8264107711658708\n",
      "75\n"
     ]
    }
   ],
   "source": [
    "import random\n",
    "print(random.random())\n",
    "print(random.randint(45,75))"
   ]
  },
  {
   "cell_type": "code",
   "execution_count": null,
   "id": "0564fd1b",
   "metadata": {},
   "outputs": [],
   "source": []
  }
 ],
 "metadata": {
  "kernelspec": {
   "display_name": "Python 3 (ipykernel)",
   "language": "python",
   "name": "python3"
  },
  "language_info": {
   "codemirror_mode": {
    "name": "ipython",
    "version": 3
   },
   "file_extension": ".py",
   "mimetype": "text/x-python",
   "name": "python",
   "nbconvert_exporter": "python",
   "pygments_lexer": "ipython3",
   "version": "3.10.5"
  }
 },
 "nbformat": 4,
 "nbformat_minor": 5
}
