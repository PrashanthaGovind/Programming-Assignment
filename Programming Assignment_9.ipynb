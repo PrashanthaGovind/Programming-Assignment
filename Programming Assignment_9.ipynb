{
 "cells": [
  {
   "cell_type": "markdown",
   "id": "47b9bb99",
   "metadata": {},
   "source": [
    "## Programming Assignment_9\n",
    "----------------"
   ]
  },
  {
   "cell_type": "markdown",
   "id": "c725f7a9",
   "metadata": {},
   "source": [
    "### 1. Write a Python program to check if the given number is a Disarium Number?"
   ]
  },
  {
   "cell_type": "code",
   "execution_count": 8,
   "id": "dded4a18",
   "metadata": {},
   "outputs": [
    {
     "name": "stdout",
     "output_type": "stream",
     "text": [
      "Enter a number: 75\n",
      "75 is not a Disarium Number\n"
     ]
    }
   ],
   "source": [
    "number = int(input(\"Enter a number: \"))\n",
    "\n",
    "total = 0\n",
    "for i in range(len(str(number))):\n",
    "    total += int(str(number)[i]) ** (i+1)\n",
    "    \n",
    "if number == total:\n",
    "    print(number, \"is Disarium Number\")\n",
    "else:\n",
    "    print(number, \"is not a Disarium Number\")\n",
    "    "
   ]
  },
  {
   "cell_type": "markdown",
   "id": "f0064401",
   "metadata": {},
   "source": [
    "### 2. Write a Python program to print all disarium numbers between 1 to 100?"
   ]
  },
  {
   "cell_type": "code",
   "execution_count": 7,
   "id": "538fb300",
   "metadata": {},
   "outputs": [
    {
     "name": "stdout",
     "output_type": "stream",
     "text": [
      "1 2 3 4 5 6 7 8 9 89 "
     ]
    }
   ],
   "source": [
    "for i in range(1, 101):\n",
    "    total = 0\n",
    "    for j in range(len(str(i))):\n",
    "        total += int(str(i)[j]) ** (j+1)\n",
    "    if i == total:\n",
    "        print(i, end=\" \")"
   ]
  },
  {
   "cell_type": "markdown",
   "id": "31df1e4a",
   "metadata": {},
   "source": [
    "### 3. Write a Python program to check if the given number is Happy Number?"
   ]
  },
  {
   "cell_type": "code",
   "execution_count": 19,
   "id": "d7fe9e0a",
   "metadata": {},
   "outputs": [
    {
     "name": "stdout",
     "output_type": "stream",
     "text": [
      "Enter a number:97\n",
      "97 is a Happy Number.\n"
     ]
    }
   ],
   "source": [
    "number=int(input(\"Enter a number:\"))\n",
    "num = number\n",
    "sum=0\n",
    "while sum != 1 and sum != 4:\n",
    "    sum=0\n",
    "    while num!=0:\n",
    "        rem = num % 10\n",
    "        sum += (rem*rem)\n",
    "        num //= 10\n",
    "    num=sum\n",
    "\n",
    "if sum==1:\n",
    "    print(number, \"is a Happy Number.\")\n",
    "else:\n",
    "   print(number, \"is  an Unhappy Number.\")"
   ]
  },
  {
   "cell_type": "markdown",
   "id": "51b265e3",
   "metadata": {},
   "source": [
    "### 4. Write a Python program to print all happy numbers between 1 and 100?"
   ]
  },
  {
   "cell_type": "code",
   "execution_count": 20,
   "id": "5df6833c",
   "metadata": {},
   "outputs": [
    {
     "name": "stdout",
     "output_type": "stream",
     "text": [
      "1 7 10 13 19 23 28 31 32 44 49 68 70 79 82 86 91 94 97 100 "
     ]
    }
   ],
   "source": [
    "for number in range(1,101):\n",
    "    num = number\n",
    "    sum=0\n",
    "    while sum != 1 and sum != 4:\n",
    "        sum=0\n",
    "        while num!=0:\n",
    "            rem = num % 10\n",
    "            sum += (rem*rem)\n",
    "            num //= 10\n",
    "        num=sum\n",
    "\n",
    "    if sum==1:\n",
    "        print(number, end=\" \")"
   ]
  },
  {
   "cell_type": "markdown",
   "id": "6a190ee0",
   "metadata": {},
   "source": [
    "### 5. Write a Python program to determine whether the given number is a Harshad Number?"
   ]
  },
  {
   "cell_type": "code",
   "execution_count": 22,
   "id": "10dbd9ea",
   "metadata": {},
   "outputs": [
    {
     "name": "stdout",
     "output_type": "stream",
     "text": [
      "Enter a number:11\n",
      "11 is not a a Harshad Number\n"
     ]
    }
   ],
   "source": [
    "number=int(input(\"Enter a number:\"))\n",
    "\n",
    "sum_of_number = 0\n",
    "\n",
    "for i in range(len(str(number))):\n",
    "    sum_of_number = sum_of_number + int(str(number)[i])\n",
    "    \n",
    "    \n",
    "if number % sum_of_number ==0:\n",
    "    print(number, \"is a Harshad Number\")\n",
    "else:\n",
    "    print(number, \"is not a a Harshad Number\")\n"
   ]
  },
  {
   "cell_type": "markdown",
   "id": "7a7ea92e",
   "metadata": {},
   "source": [
    "### 6. Write a Python program to print all pronic numbers between 1 and 100?"
   ]
  },
  {
   "cell_type": "code",
   "execution_count": 23,
   "id": "1a65cd8e",
   "metadata": {},
   "outputs": [
    {
     "name": "stdout",
     "output_type": "stream",
     "text": [
      "1 2 3 4 5 6 7 8 9 10 12 18 20 21 24 27 30 36 40 42 45 48 50 54 60 63 70 72 80 81 84 90 100 "
     ]
    }
   ],
   "source": [
    "for number in range(1, 101):\n",
    "\n",
    "    sum_of_number = 0\n",
    "\n",
    "    for i in range(len(str(number))):\n",
    "        sum_of_number = sum_of_number + int(str(number)[i])\n",
    "\n",
    "\n",
    "    if number % sum_of_number ==0:\n",
    "        print(number, end=\" \")"
   ]
  },
  {
   "cell_type": "code",
   "execution_count": null,
   "id": "bfcb9784",
   "metadata": {},
   "outputs": [],
   "source": []
  }
 ],
 "metadata": {
  "kernelspec": {
   "display_name": "Python 3 (ipykernel)",
   "language": "python",
   "name": "python3"
  },
  "language_info": {
   "codemirror_mode": {
    "name": "ipython",
    "version": 3
   },
   "file_extension": ".py",
   "mimetype": "text/x-python",
   "name": "python",
   "nbconvert_exporter": "python",
   "pygments_lexer": "ipython3",
   "version": "3.10.5"
  }
 },
 "nbformat": 4,
 "nbformat_minor": 5
}
