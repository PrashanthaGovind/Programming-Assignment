{
 "cells": [
  {
   "cell_type": "markdown",
   "id": "35297a20",
   "metadata": {},
   "source": [
    "## Programming Basic Assignment 7"
   ]
  },
  {
   "cell_type": "markdown",
   "id": "27349114",
   "metadata": {},
   "source": [
    "### 1. Write a Python Program to find sum of array?"
   ]
  },
  {
   "cell_type": "code",
   "execution_count": 3,
   "id": "afd73cf7",
   "metadata": {},
   "outputs": [
    {
     "name": "stdout",
     "output_type": "stream",
     "text": [
      "The sum of array by using 'sum' function 482\n",
      "The sum of array by using 'for loop' function 482\n"
     ]
    }
   ],
   "source": [
    "array = [45,78,76,24,96,75,24,64]\n",
    "sum_array = sum(array)\n",
    "print(\"The sum of array by using 'sum' function\", sum_array)\n",
    "\n",
    "# BY using for loop\n",
    "sum_arr = 0\n",
    "for i in array:\n",
    "    sum_arr += i\n",
    "print(\"The sum of array by using 'for loop' function\", sum_arr)"
   ]
  },
  {
   "cell_type": "markdown",
   "id": "171a980d",
   "metadata": {},
   "source": [
    "### 2. Write a Python Program to find largest element in an array?\n"
   ]
  },
  {
   "cell_type": "code",
   "execution_count": 7,
   "id": "57ddc621",
   "metadata": {},
   "outputs": [
    {
     "name": "stdout",
     "output_type": "stream",
     "text": [
      "Largest element present in given array is:  96\n"
     ]
    }
   ],
   "source": [
    "array = [45,78,76,24,96,75,24,64]\n",
    "max = array[0];\n",
    "\n",
    "for i in range(0, len(array)):\n",
    "    if (array[i] > max):\n",
    "        max = array[i];\n",
    "\n",
    "print(\"Largest element present in given array is: \", max); "
   ]
  },
  {
   "cell_type": "markdown",
   "id": "21613246",
   "metadata": {},
   "source": [
    "### 3. Write a Python Program for array rotation?"
   ]
  },
  {
   "cell_type": "code",
   "execution_count": 14,
   "id": "e9ed1759",
   "metadata": {},
   "outputs": [
    {
     "name": "stdout",
     "output_type": "stream",
     "text": [
      "Original array: \n",
      "[1, 2, 3, 4, 5]\n",
      "\n",
      "[4, 5, 1, 2, 3]\n"
     ]
    }
   ],
   "source": [
    "   \n",
    "arr = [1, 2, 3, 4, 5]   \n",
    "  \n",
    "n = 3 \n",
    "    \n",
    "print(\"Original array: \")   \n",
    "print(arr)   \n",
    "\n",
    "for i in range(0, n):   \n",
    "    first = arr[0]\n",
    "        \n",
    "    for j in range(0, len(arr)-1):    \n",
    "        arr[j] = arr[j+1]\n",
    "        \n",
    "    arr[len(arr)-1] = first;    \n",
    "     \n",
    "print()   \n",
    "\n",
    "print(arr)   "
   ]
  },
  {
   "cell_type": "markdown",
   "id": "3e52d939",
   "metadata": {},
   "source": [
    "### 4. Write a Python Program to Split the array and add the first part to the end?"
   ]
  },
  {
   "cell_type": "code",
   "execution_count": 21,
   "id": "a6b16920",
   "metadata": {},
   "outputs": [
    {
     "name": "stdout",
     "output_type": "stream",
     "text": [
      "[5, 6, 52, 36, 12, 10]\n"
     ]
    }
   ],
   "source": [
    "def splitArr(arr, n, k):\n",
    "    for i in range(0, k):\n",
    "        x = arr[0]\n",
    "        for j in range(0, n-1):\n",
    "            arr[j] = arr[j + 1]\n",
    "        arr[n-1] = x\n",
    "\n",
    "\n",
    "arr = [12, 10, 5, 6, 52, 36]\n",
    "n = len(arr)\n",
    "position = 2\n",
    "\n",
    "splitArr(arr, n, position)\n",
    "\n",
    "print(arr)"
   ]
  },
  {
   "cell_type": "markdown",
   "id": "aa375779",
   "metadata": {},
   "source": [
    "### 5. Write a Python Program to check if given array is Monotonic?"
   ]
  },
  {
   "cell_type": "code",
   "execution_count": 27,
   "id": "4612a50a",
   "metadata": {},
   "outputs": [
    {
     "name": "stdout",
     "output_type": "stream",
     "text": [
      "True\n"
     ]
    }
   ],
   "source": [
    "def isMonotonic(A):\n",
    "\n",
    "    return (all(A[i] <= A[i + 1] for i in range(len(A) - 1)) or all(A[i] >= A[i + 1] for i in range(len(A) - 1)))\n",
    "\n",
    "A = [10,9,8,7,6,5,4,3,2,1]\n",
    "\n",
    "print(isMonotonic(A))"
   ]
  },
  {
   "cell_type": "code",
   "execution_count": null,
   "id": "81299ee3",
   "metadata": {},
   "outputs": [],
   "source": []
  }
 ],
 "metadata": {
  "kernelspec": {
   "display_name": "Python 3 (ipykernel)",
   "language": "python",
   "name": "python3"
  },
  "language_info": {
   "codemirror_mode": {
    "name": "ipython",
    "version": 3
   },
   "file_extension": ".py",
   "mimetype": "text/x-python",
   "name": "python",
   "nbconvert_exporter": "python",
   "pygments_lexer": "ipython3",
   "version": "3.10.5"
  }
 },
 "nbformat": 4,
 "nbformat_minor": 5
}
